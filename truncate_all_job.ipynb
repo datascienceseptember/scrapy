{
 "cells": [
  {
   "cell_type": "code",
   "execution_count": 4,
   "metadata": {},
   "outputs": [],
   "source": [
    "from sqlalchemy import create_engine\n",
    "import pymysql\n",
    "import sys\n",
    "import mysql.connector"
   ]
  },
  {
   "cell_type": "code",
   "execution_count": 6,
   "metadata": {},
   "outputs": [
    {
     "name": "stdout",
     "output_type": "stream",
     "text": [
      "success\n",
      "all data are truncated\n"
     ]
    }
   ],
   "source": [
    "def truncateData():    \n",
    "    try:\n",
    "        connection = mysql.connector.connect\\\n",
    "        (host = \"localhost\", user = \"root\", passwd =\"\", db = \"job_aggregator\")\n",
    "        cursor = connection.cursor()\n",
    "\n",
    "        data =cursor.execute(\"TRUNCATE job;\")\n",
    "        connection.commit()\n",
    "        cursor.close()\n",
    "        print('success')\n",
    "        print('all data are truncated')\n",
    "    except:\n",
    "           print(\"No connection\")\n",
    "#            sys.exit(0)\n",
    "           print('Data are not delete')\n",
    "\n",
    "    \n",
    "   \n",
    "    \n",
    "truncateData()    \n",
    "   \n"
   ]
  },
  {
   "cell_type": "code",
   "execution_count": null,
   "metadata": {},
   "outputs": [],
   "source": []
  },
  {
   "cell_type": "code",
   "execution_count": null,
   "metadata": {},
   "outputs": [],
   "source": []
  }
 ],
 "metadata": {
  "kernelspec": {
   "display_name": "Python 3",
   "language": "python",
   "name": "python3"
  },
  "language_info": {
   "codemirror_mode": {
    "name": "ipython",
    "version": 3
   },
   "file_extension": ".py",
   "mimetype": "text/x-python",
   "name": "python",
   "nbconvert_exporter": "python",
   "pygments_lexer": "ipython3",
   "version": "3.7.3"
  }
 },
 "nbformat": 4,
 "nbformat_minor": 2
}
